{
 "cells": [
  {
   "cell_type": "code",
   "execution_count": 9,
   "id": "1fac9bee",
   "metadata": {},
   "outputs": [
    {
     "name": "stdout",
     "output_type": "stream",
     "text": [
      "D:/Code/Python/system_analysis/task1/example.csv\n",
      "4\n",
      "5\n",
      "The value in cell (4, 5) is: 20.5\n"
     ]
    }
   ],
   "source": [
    "import csv\n",
    "\n",
    "def read_csv_cell(file_path, row_index, column_index):\n",
    "    with open(file_path, newline='') as csvfile:\n",
    "        reader = csv.reader(csvfile)\n",
    "        data = list(reader)\n",
    "\n",
    "        if row_index <= len(data) and column_index <= len(data[row_index-1]):\n",
    "            cell_value = data[row_index-1][column_index-1]\n",
    "            return cell_value\n",
    "        else:\n",
    "            return None\n",
    "\n",
    "file_path = input()\n",
    "row_index = int(input())\n",
    "column_index = int(input())\n",
    "\n",
    "cell_value = read_csv_cell(file_path, row_index, column_index)\n",
    "if cell_value is not None:\n",
    "    print(\"The value in cell ({}, {}) is: {}\".format(row_index, column_index, cell_value))\n",
    "else:\n",
    "    print(\"Invalid row or column index.\")"
   ]
  }
 ],
 "metadata": {
  "kernelspec": {
   "display_name": "Python 3 (ipykernel)",
   "language": "python",
   "name": "python3"
  },
  "language_info": {
   "codemirror_mode": {
    "name": "ipython",
    "version": 3
   },
   "file_extension": ".py",
   "mimetype": "text/x-python",
   "name": "python",
   "nbconvert_exporter": "python",
   "pygments_lexer": "ipython3",
   "version": "3.10.9"
  }
 },
 "nbformat": 4,
 "nbformat_minor": 5
}
